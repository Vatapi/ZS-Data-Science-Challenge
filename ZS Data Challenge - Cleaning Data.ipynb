{
 "cells": [
  {
   "cell_type": "code",
   "execution_count": 1,
   "metadata": {},
   "outputs": [],
   "source": [
    "import pandas as pd\n",
    "import numpy as np\n",
    "from tqdm import tqdm\n",
    "import pandas\n",
    "import seaborn\n",
    "import matplotlib.pyplot as plt\n",
    "from sklearn.preprocessing import LabelEncoder\n",
    "from sklearn.metrics import confusion_matrix ,accuracy_score\n",
    "from sklearn.model_selection import train_test_split \n",
    "from sklearn.neighbors import KNeighborsClassifier \n",
    "seaborn.set(style='ticks')\n",
    "dataset = pd.read_csv(\"data.csv\")"
   ]
  },
  {
   "cell_type": "code",
   "execution_count": 2,
   "metadata": {},
   "outputs": [
    {
     "data": {
      "text/plain": [
       "Index(['Unnamed: 0', 'match_event_id', 'location_x', 'location_y',\n",
       "       'remaining_min', 'power_of_shot', 'knockout_match', 'game_season',\n",
       "       'remaining_sec', 'distance_of_shot', 'is_goal', 'area_of_shot',\n",
       "       'shot_basics', 'range_of_shot', 'team_name', 'date_of_game',\n",
       "       'home/away', 'shot_id_number', 'lat/lng', 'type_of_shot',\n",
       "       'type_of_combined_shot', 'match_id', 'team_id', 'remaining_min.1',\n",
       "       'power_of_shot.1', 'knockout_match.1', 'remaining_sec.1',\n",
       "       'distance_of_shot.1'],\n",
       "      dtype='object')"
      ]
     },
     "execution_count": 2,
     "metadata": {},
     "output_type": "execute_result"
    }
   ],
   "source": [
    "dataset.columns"
   ]
  },
  {
   "cell_type": "code",
   "execution_count": 3,
   "metadata": {},
   "outputs": [
    {
     "data": {
      "text/plain": [
       "0    0.0\n",
       "dtype: float64"
      ]
     },
     "execution_count": 3,
     "metadata": {},
     "output_type": "execute_result"
    }
   ],
   "source": [
    "dataset.location_x.mode()"
   ]
  },
  {
   "cell_type": "code",
   "execution_count": 4,
   "metadata": {},
   "outputs": [
    {
     "data": {
      "text/plain": [
       "0    0.0\n",
       "dtype: float64"
      ]
     },
     "execution_count": 4,
     "metadata": {},
     "output_type": "execute_result"
    }
   ],
   "source": [
    "dataset[\"location_y\"].mode()"
   ]
  },
  {
   "cell_type": "code",
   "execution_count": 5,
   "metadata": {},
   "outputs": [],
   "source": [
    "dataset.location_x.fillna(0.0, inplace = True)\n",
    "dataset[\"location_y\"].fillna(0.0 , inplace =True)"
   ]
  },
  {
   "cell_type": "code",
   "execution_count": 6,
   "metadata": {},
   "outputs": [
    {
     "data": {
      "text/plain": [
       "Unnamed: 0                   0\n",
       "match_event_id            1563\n",
       "location_x                   0\n",
       "location_y                   0\n",
       "remaining_min             1562\n",
       "power_of_shot             1486\n",
       "knockout_match            1517\n",
       "game_season               5862\n",
       "remaining_sec             1594\n",
       "distance_of_shot          1567\n",
       "is_goal                   6268\n",
       "area_of_shot              1502\n",
       "shot_basics               1575\n",
       "range_of_shot             1564\n",
       "team_name                 1535\n",
       "date_of_game              1550\n",
       "home/away                 1497\n",
       "shot_id_number            1563\n",
       "lat/lng                   1565\n",
       "type_of_shot             15280\n",
       "type_of_combined_shot    15417\n",
       "match_id                     0\n",
       "team_id                      0\n",
       "remaining_min.1           1535\n",
       "power_of_shot.1           1539\n",
       "knockout_match.1          1493\n",
       "remaining_sec.1           1539\n",
       "distance_of_shot.1        1568\n",
       "dtype: int64"
      ]
     },
     "execution_count": 6,
     "metadata": {},
     "output_type": "execute_result"
    }
   ],
   "source": [
    "dataset.isna().sum()"
   ]
  },
  {
   "cell_type": "code",
   "execution_count": 7,
   "metadata": {},
   "outputs": [
    {
     "name": "stderr",
     "output_type": "stream",
     "text": [
      "100%|████████████████████████████████████| 30697/30697 [00:00<00:00, 36863.88it/s]\n"
     ]
    },
    {
     "data": {
      "text/plain": [
       "30697"
      ]
     },
     "execution_count": 7,
     "metadata": {},
     "output_type": "execute_result"
    }
   ],
   "source": [
    "dataset[\"shot_id_number\"].interpolate(method=\"linear\" , ax=1 , inplace=True)\n",
    "count = 0\n",
    "for i in tqdm(range(len(dataset))):\n",
    "    if dataset[\"shot_id_number\"][i] == i+1:\n",
    "        count += 1\n",
    "count"
   ]
  },
  {
   "cell_type": "code",
   "execution_count": 8,
   "metadata": {},
   "outputs": [
    {
     "data": {
      "text/plain": [
       "2005-06    1911\n",
       "2002-03    1823\n",
       "2008-09    1810\n",
       "2007-08    1733\n",
       "2009-10    1665\n",
       "2001-02    1632\n",
       "2006-07    1537\n",
       "2000-01    1488\n",
       "2010-11    1462\n",
       "2003-04    1329\n",
       "2011-12    1326\n",
       "2012-13    1296\n",
       "1999-00    1264\n",
       "2004-05    1074\n",
       "2015-16     893\n",
       "1997-98     804\n",
       "1998-99     752\n",
       "2014-15     594\n",
       "1996-97     381\n",
       "2013-14      61\n",
       "Name: game_season, dtype: int64"
      ]
     },
     "execution_count": 8,
     "metadata": {},
     "output_type": "execute_result"
    }
   ],
   "source": [
    "dataset[\"game_season\"].value_counts()"
   ]
  },
  {
   "cell_type": "code",
   "execution_count": 9,
   "metadata": {},
   "outputs": [],
   "source": [
    "dataset[\"game_season\"].fillna(method=\"ffill\" , inplace=True)\n",
    "dataset[\"knockout_match\"].fillna(method =\"bfill\" , inplace=True)"
   ]
  },
  {
   "cell_type": "code",
   "execution_count": 10,
   "metadata": {},
   "outputs": [
    {
     "data": {
      "text/plain": [
       "array([1610612747], dtype=int64)"
      ]
     },
     "execution_count": 10,
     "metadata": {},
     "output_type": "execute_result"
    }
   ],
   "source": [
    "dataset[\"team_id\"].unique()"
   ]
  },
  {
   "cell_type": "code",
   "execution_count": 11,
   "metadata": {},
   "outputs": [
    {
     "data": {
      "text/plain": [
       "array(['Manchester United', nan], dtype=object)"
      ]
     },
     "execution_count": 11,
     "metadata": {},
     "output_type": "execute_result"
    }
   ],
   "source": [
    "dataset[\"team_name\"].unique()"
   ]
  },
  {
   "cell_type": "code",
   "execution_count": 12,
   "metadata": {},
   "outputs": [],
   "source": [
    "def loc(col , is_string):\n",
    "    bool_series = dataset[col].isna()\n",
    "    testdata = dataset[bool_series]\n",
    "    false_series = dataset[col].notnull()\n",
    "    training_data = dataset[false_series]\n",
    "    \n",
    "    df = pandas.DataFrame({\n",
    "        'loc_x': training_data['location_x'],\n",
    "        'loc_y': training_data['location_y'],\n",
    "        'Col': training_data[col]\n",
    "    })\n",
    "    df1 = pandas.DataFrame({\n",
    "        'loc_x': testdata['location_x'],\n",
    "        'loc_y': testdata['location_y'],\n",
    "        'Col': testdata[col]\n",
    "    })\n",
    "    fg = seaborn.FacetGrid(data=df, hue='Col', aspect=2)\n",
    "    fg.map(plt.scatter, 'loc_x', 'loc_y').add_legend()\n",
    "    \n",
    "    X_train = df.iloc[: , 0:2].values\n",
    "    y_train = df.iloc[: , 2].values\n",
    "    X_test = df1.iloc[: , 0:2].values\n",
    "    y_test = df1.iloc[: , 2].values\n",
    "    \n",
    "    if is_string == 1:\n",
    "        label_enc = LabelEncoder()\n",
    "        y_train = label_enc.fit_transform(y_train.astype(str))\n",
    "    \n",
    "    knn = KNeighborsClassifier(n_neighbors = 17)\n",
    "    knn.fit(X_train, y_train)\n",
    "    y_pred = knn.predict(X_test)\n",
    "    if is_string==1:\n",
    "        y_pred = label_enc.inverse_transform(y_pred)\n",
    "    dataset[col] = dataset[col].replace(np.nan , 'missing')\n",
    "    j = 0\n",
    "    for i in tqdm(range(len(dataset))):\n",
    "        if dataset[col][i] == 'missing':\n",
    "            dataset[col][i] = y_pred[j]\n",
    "            j+=1\n",
    "    dataset[col] = dataset[col].replace('missing' , np.nan)\n",
    "    return y_pred"
   ]
  },
  {
   "cell_type": "code",
   "execution_count": 13,
   "metadata": {},
   "outputs": [
    {
     "name": "stderr",
     "output_type": "stream",
     "text": [
      "  0%|                                                   | 0/30697 [00:00<?, ?it/s]c:\\users\\bharat\\appdata\\local\\programs\\python\\python36\\lib\\site-packages\\ipykernel_launcher.py:38: SettingWithCopyWarning: \n",
      "A value is trying to be set on a copy of a slice from a DataFrame\n",
      "\n",
      "See the caveats in the documentation: http://pandas.pydata.org/pandas-docs/stable/indexing.html#indexing-view-versus-copy\n",
      "100%|██████████████████████████████████████| 30697/30697 [01:30<00:00, 338.13it/s]\n"
     ]
    },
    {
     "data": {
      "text/plain": [
       "array([26., 32., 20., ..., 36., 27., 22.])"
      ]
     },
     "execution_count": 13,
     "metadata": {},
     "output_type": "execute_result"
    },
    {
     "data": {
      "image/png": "[encoded data removed]",
      "text/plain": [
       "<Figure size 493.35x216 with 1 Axes>"
      ]
     },
     "metadata": {
      "needs_background": "light"
     },
     "output_type": "display_data"
    }
   ],
   "source": [
    "values = loc(\"distance_of_shot\" , 0)\n",
    "values"
   ]
  },
  {
   "cell_type": "code",
   "execution_count": 14,
   "metadata": {},
   "outputs": [
    {
     "name": "stderr",
     "output_type": "stream",
     "text": [
      "  0%|                                                   | 0/30697 [00:00<?, ?it/s]c:\\users\\bharat\\appdata\\local\\programs\\python\\python36\\lib\\site-packages\\ipykernel_launcher.py:38: SettingWithCopyWarning: \n",
      "A value is trying to be set on a copy of a slice from a DataFrame\n",
      "\n",
      "See the caveats in the documentation: http://pandas.pydata.org/pandas-docs/stable/indexing.html#indexing-view-versus-copy\n",
      "100%|██████████████████████████████████████| 30697/30697 [01:15<00:00, 408.42it/s]\n"
     ]
    },
    {
     "data": {
      "text/plain": [
       "array(['24+ ft.', 'Less Than 8 ft.', '16-24 ft.', ..., 'Less Than 8 ft.',\n",
       "       '16-24 ft.', '24+ ft.'], dtype='<U15')"
      ]
     },
     "execution_count": 14,
     "metadata": {},
     "output_type": "execute_result"
    },
    {
     "data": {
      "image/png": "[encoded data removed]",
      "text/plain": [
       "<Figure size 551.975x216 with 1 Axes>"
      ]
     },
     "metadata": {
      "needs_background": "light"
     },
     "output_type": "display_data"
    }
   ],
   "source": [
    "val = loc(\"range_of_shot\" , 1)\n",
    "val"
   ]
  },
  {
   "cell_type": "code",
   "execution_count": 15,
   "metadata": {
    "scrolled": true
   },
   "outputs": [
    {
     "name": "stderr",
     "output_type": "stream",
     "text": [
      "  0%|                                                   | 0/30697 [00:00<?, ?it/s]c:\\users\\bharat\\appdata\\local\\programs\\python\\python36\\lib\\site-packages\\ipykernel_launcher.py:38: SettingWithCopyWarning: \n",
      "A value is trying to be set on a copy of a slice from a DataFrame\n",
      "\n",
      "See the caveats in the documentation: http://pandas.pydata.org/pandas-docs/stable/indexing.html#indexing-view-versus-copy\n",
      "100%|██████████████████████████████████████| 30697/30697 [01:09<00:00, 442.82it/s]\n"
     ]
    },
    {
     "data": {
      "text/plain": [
       "array(['Center(C)', 'Center(C)', 'Left Side Center(LC)', ..., 'Center(C)',\n",
       "       'Center(C)', 'Right Side(R)'], dtype='<U21')"
      ]
     },
     "execution_count": 15,
     "metadata": {},
     "output_type": "execute_result"
    },
    {
     "data": {
      "image/png": "[encoded data removed]",
      "text/plain": [
       "<Figure size 582.1x216 with 1 Axes>"
      ]
     },
     "metadata": {
      "needs_background": "light"
     },
     "output_type": "display_data"
    }
   ],
   "source": [
    "valu = loc(\"area_of_shot\" , 1)\n",
    "valu"
   ]
  },
  {
   "cell_type": "code",
   "execution_count": 16,
   "metadata": {},
   "outputs": [
    {
     "name": "stderr",
     "output_type": "stream",
     "text": [
      "  0%|                                                   | 0/30697 [00:00<?, ?it/s]c:\\users\\bharat\\appdata\\local\\programs\\python\\python36\\lib\\site-packages\\ipykernel_launcher.py:38: SettingWithCopyWarning: \n",
      "A value is trying to be set on a copy of a slice from a DataFrame\n",
      "\n",
      "See the caveats in the documentation: http://pandas.pydata.org/pandas-docs/stable/indexing.html#indexing-view-versus-copy\n",
      "100%|██████████████████████████████████████| 30697/30697 [01:09<00:00, 441.39it/s]\n"
     ]
    },
    {
     "data": {
      "text/plain": [
       "array(['Penalty Spot', 'Goal Area', 'Mid Range', ..., 'Mid Range',\n",
       "       'Mid Range', 'Goal Line'], dtype='<U15')"
      ]
     },
     "execution_count": 16,
     "metadata": {},
     "output_type": "execute_result"
    },
    {
     "data": {
      "image/png": "[encoded data removed]",
      "text/plain": [
       "<Figure size 553.1x216 with 1 Axes>"
      ]
     },
     "metadata": {
      "needs_background": "light"
     },
     "output_type": "display_data"
    }
   ],
   "source": [
    "value = loc(\"shot_basics\" , 1)\n",
    "value"
   ]
  },
  {
   "cell_type": "code",
   "execution_count": 17,
   "metadata": {},
   "outputs": [],
   "source": [
    "def same_columns(x,y,power):\n",
    "    count = 0\n",
    "    dataset[x] = dataset[x].replace(np.nan , 'x')\n",
    "    dataset[y] = dataset[y].replace(np.nan , 'x')\n",
    "    for i in tqdm(range(len(dataset))):\n",
    "        if dataset[x][i] == 'x' and dataset[y][i] != 'x':\n",
    "            if power == 1 and dataset[y][i]<=7:\n",
    "                dataset[x][i] = dataset[y][i]\n",
    "            elif power!=1:\n",
    "                dataset[x][i] = dataset[y][i]\n",
    "            else:\n",
    "                pass\n",
    "        elif dataset[x][i] == 'x' and dataset[y][i] == 'x':\n",
    "            count += 1\n",
    "        else:\n",
    "            pass\n",
    "    dataset[x] = dataset[x].replace('x' , np.nan)\n",
    "    dataset[y] = dataset[y].replace('x' , np.nan)\n",
    "    return count"
   ]
  },
  {
   "cell_type": "code",
   "execution_count": 18,
   "metadata": {},
   "outputs": [
    {
     "name": "stderr",
     "output_type": "stream",
     "text": [
      "  0%|                                                   | 0/30697 [00:00<?, ?it/s]c:\\users\\bharat\\appdata\\local\\programs\\python\\python36\\lib\\site-packages\\ipykernel_launcher.py:8: SettingWithCopyWarning: \n",
      "A value is trying to be set on a copy of a slice from a DataFrame\n",
      "\n",
      "See the caveats in the documentation: http://pandas.pydata.org/pandas-docs/stable/indexing.html#indexing-view-versus-copy\n",
      "  \n",
      "100%|██████████████████████████████████████| 30697/30697 [00:48<00:00, 633.67it/s]\n"
     ]
    },
    {
     "data": {
      "text/plain": [
       "70"
      ]
     },
     "execution_count": 18,
     "metadata": {},
     "output_type": "execute_result"
    }
   ],
   "source": [
    "a = same_columns(\"power_of_shot\" , \"power_of_shot.1\",1)\n",
    "a"
   ]
  },
  {
   "cell_type": "code",
   "execution_count": 19,
   "metadata": {},
   "outputs": [
    {
     "name": "stderr",
     "output_type": "stream",
     "text": [
      "  0%|                                                   | 0/30697 [00:00<?, ?it/s]c:\\users\\bharat\\appdata\\local\\programs\\python\\python36\\lib\\site-packages\\ipykernel_launcher.py:10: SettingWithCopyWarning: \n",
      "A value is trying to be set on a copy of a slice from a DataFrame\n",
      "\n",
      "See the caveats in the documentation: http://pandas.pydata.org/pandas-docs/stable/indexing.html#indexing-view-versus-copy\n",
      "  # Remove the CWD from sys.path while we load stuff.\n",
      "100%|██████████████████████████████████████| 30697/30697 [01:04<00:00, 475.83it/s]\n"
     ]
    },
    {
     "data": {
      "text/plain": [
       "81"
      ]
     },
     "execution_count": 19,
     "metadata": {},
     "output_type": "execute_result"
    }
   ],
   "source": [
    "b = same_columns(\"remaining_min\" , \"remaining_min.1\",0)\n",
    "b"
   ]
  },
  {
   "cell_type": "code",
   "execution_count": 20,
   "metadata": {
    "scrolled": true
   },
   "outputs": [
    {
     "name": "stderr",
     "output_type": "stream",
     "text": [
      "  0%|                                                   | 0/30697 [00:00<?, ?it/s]c:\\users\\bharat\\appdata\\local\\programs\\python\\python36\\lib\\site-packages\\ipykernel_launcher.py:10: SettingWithCopyWarning: \n",
      "A value is trying to be set on a copy of a slice from a DataFrame\n",
      "\n",
      "See the caveats in the documentation: http://pandas.pydata.org/pandas-docs/stable/indexing.html#indexing-view-versus-copy\n",
      "  # Remove the CWD from sys.path while we load stuff.\n",
      "100%|██████████████████████████████████████| 30697/30697 [01:16<00:00, 402.17it/s]\n"
     ]
    },
    {
     "data": {
      "text/plain": [
       "77"
      ]
     },
     "execution_count": 20,
     "metadata": {},
     "output_type": "execute_result"
    }
   ],
   "source": [
    "c = same_columns(\"remaining_sec\" , \"remaining_sec.1\",0)\n",
    "c"
   ]
  },
  {
   "cell_type": "code",
   "execution_count": 21,
   "metadata": {},
   "outputs": [
    {
     "name": "stderr",
     "output_type": "stream",
     "text": [
      "  0%|                                                   | 0/30697 [00:00<?, ?it/s]c:\\users\\bharat\\appdata\\local\\programs\\python\\python36\\lib\\site-packages\\ipykernel_launcher.py:10: SettingWithCopyWarning: \n",
      "A value is trying to be set on a copy of a slice from a DataFrame\n",
      "\n",
      "See the caveats in the documentation: http://pandas.pydata.org/pandas-docs/stable/indexing.html#indexing-view-versus-copy\n",
      "  # Remove the CWD from sys.path while we load stuff.\n",
      "100%|███████████████████████████████████████| 30697/30697 [14:25<00:00, 35.48it/s]\n"
     ]
    },
    {
     "data": {
      "text/plain": [
       "0"
      ]
     },
     "execution_count": 21,
     "metadata": {},
     "output_type": "execute_result"
    }
   ],
   "source": [
    "c = same_columns(\"type_of_shot\" , \"type_of_combined_shot\" , 0)\n",
    "c"
   ]
  },
  {
   "cell_type": "code",
   "execution_count": 22,
   "metadata": {},
   "outputs": [],
   "source": [
    "dataset[\"remaining_time\"] = dataset[\"remaining_min\"] + (dataset[\"remaining_sec\"]/60)\n",
    "dataset.drop(\"remaining_min\" , axis =1, inplace =True)\n",
    "dataset.drop(\"remaining_sec\" , axis =1, inplace =True)\n",
    "dataset.drop(\"team_id\" , axis=1,inplace=True)\n",
    "dataset.drop(\"team_name\" , axis=1 ,inplace=True)\n",
    "dataset.drop(\"match_event_id\" , axis =1, inplace=True)\n",
    "dataset.drop(\"knockout_match.1\" , axis =1,inplace =True)\n",
    "dataset.drop(\"distance_of_shot.1\" ,axis=1,inplace=True)\n",
    "dataset.drop(\"type_of_combined_shot\" ,axis=1,inplace=True)\n",
    "dataset.drop(dataset.columns[0] , axis=1,inplace=True)\n",
    "dataset.drop(\"power_of_shot.1\" , axis=1,inplace=True)\n",
    "dataset.drop(\"remaining_min.1\" ,axis=1, inplace=True)\n",
    "dataset.drop(\"remaining_sec.1\" ,axis=1, inplace=True)"
   ]
  },
  {
   "cell_type": "code",
   "execution_count": 23,
   "metadata": {},
   "outputs": [],
   "source": [
    "def one_to_one(col):\n",
    "    dic = {}\n",
    "    for i in tqdm(range(len(dataset))):\n",
    "        if i!=22902:\n",
    "            if (dataset[col][i] is not np.nan):\n",
    "                dic[dataset[\"match_id\"][i]] = dataset[col][i]\n",
    "    for i in tqdm(range(len(dataset))):\n",
    "        if i!= 22902:\n",
    "            if dataset[col][i] is np.nan:\n",
    "                x = dataset[\"match_id\"][i]\n",
    "                dataset[col][i] = dic[x]\n",
    "    temp = dataset.groupby(\"match_id\")[col].transform(lambda x: x.nunique()==1)\n",
    "    return temp.all()"
   ]
  },
  {
   "cell_type": "code",
   "execution_count": 24,
   "metadata": {},
   "outputs": [
    {
     "name": "stderr",
     "output_type": "stream",
     "text": [
      "100%|████████████████████████████████████| 30697/30697 [00:01<00:00, 21809.66it/s]\n",
      "  0%|                                                   | 0/30697 [00:00<?, ?it/s]c:\\users\\bharat\\appdata\\local\\programs\\python\\python36\\lib\\site-packages\\ipykernel_launcher.py:11: SettingWithCopyWarning: \n",
      "A value is trying to be set on a copy of a slice from a DataFrame\n",
      "\n",
      "See the caveats in the documentation: http://pandas.pydata.org/pandas-docs/stable/indexing.html#indexing-view-versus-copy\n",
      "  # This is added back by InteractiveShellApp.init_path()\n",
      "100%|██████████████████████████████████████| 30697/30697 [01:04<00:00, 475.96it/s]\n"
     ]
    },
    {
     "data": {
      "text/plain": [
       "True"
      ]
     },
     "execution_count": 24,
     "metadata": {},
     "output_type": "execute_result"
    }
   ],
   "source": [
    "x = one_to_one(\"home/away\")\n",
    "x"
   ]
  },
  {
   "cell_type": "code",
   "execution_count": 25,
   "metadata": {},
   "outputs": [
    {
     "name": "stderr",
     "output_type": "stream",
     "text": [
      "100%|████████████████████████████████████| 30697/30697 [00:01<00:00, 23761.87it/s]\n",
      "  0%|                                                   | 0/30697 [00:00<?, ?it/s]c:\\users\\bharat\\appdata\\local\\programs\\python\\python36\\lib\\site-packages\\ipykernel_launcher.py:11: SettingWithCopyWarning: \n",
      "A value is trying to be set on a copy of a slice from a DataFrame\n",
      "\n",
      "See the caveats in the documentation: http://pandas.pydata.org/pandas-docs/stable/indexing.html#indexing-view-versus-copy\n",
      "  # This is added back by InteractiveShellApp.init_path()\n",
      "100%|██████████████████████████████████████| 30697/30697 [01:06<00:00, 462.44it/s]\n"
     ]
    },
    {
     "data": {
      "text/plain": [
       "True"
      ]
     },
     "execution_count": 25,
     "metadata": {},
     "output_type": "execute_result"
    }
   ],
   "source": [
    "y = one_to_one(\"lat/lng\")\n",
    "y"
   ]
  },
  {
   "cell_type": "code",
   "execution_count": 26,
   "metadata": {},
   "outputs": [
    {
     "name": "stderr",
     "output_type": "stream",
     "text": [
      "100%|████████████████████████████████████| 30697/30697 [00:01<00:00, 23682.47it/s]\n",
      "  0%|                                                   | 0/30697 [00:00<?, ?it/s]c:\\users\\bharat\\appdata\\local\\programs\\python\\python36\\lib\\site-packages\\ipykernel_launcher.py:11: SettingWithCopyWarning: \n",
      "A value is trying to be set on a copy of a slice from a DataFrame\n",
      "\n",
      "See the caveats in the documentation: http://pandas.pydata.org/pandas-docs/stable/indexing.html#indexing-view-versus-copy\n",
      "  # This is added back by InteractiveShellApp.init_path()\n",
      "100%|██████████████████████████████████████| 30697/30697 [01:05<00:00, 466.84it/s]\n"
     ]
    },
    {
     "data": {
      "text/plain": [
       "False"
      ]
     },
     "execution_count": 26,
     "metadata": {},
     "output_type": "execute_result"
    }
   ],
   "source": [
    "z = one_to_one(\"date_of_game\")\n",
    "z"
   ]
  },
  {
   "cell_type": "code",
   "execution_count": 27,
   "metadata": {},
   "outputs": [
    {
     "data": {
      "text/html": [
       "<div>\n",
       "<style scoped>\n",
       "    .dataframe tbody tr th:only-of-type {\n",
       "        vertical-align: middle;\n",
       "    }\n",
       "\n",
       "    .dataframe tbody tr th {\n",
       "        vertical-align: top;\n",
       "    }\n",
       "\n",
       "    .dataframe thead th {\n",
       "        text-align: right;\n",
       "    }\n",
       "</style>\n",
       "<table border=\"1\" class=\"dataframe\">\n",
       "  <thead>\n",
       "    <tr style=\"text-align: right;\">\n",
       "      <th></th>\n",
       "      <th>location_x</th>\n",
       "      <th>location_y</th>\n",
       "      <th>power_of_shot</th>\n",
       "      <th>knockout_match</th>\n",
       "      <th>game_season</th>\n",
       "      <th>distance_of_shot</th>\n",
       "      <th>is_goal</th>\n",
       "      <th>area_of_shot</th>\n",
       "      <th>shot_basics</th>\n",
       "      <th>range_of_shot</th>\n",
       "      <th>date_of_game</th>\n",
       "      <th>home/away</th>\n",
       "      <th>shot_id_number</th>\n",
       "      <th>lat/lng</th>\n",
       "      <th>type_of_shot</th>\n",
       "      <th>match_id</th>\n",
       "      <th>remaining_time</th>\n",
       "    </tr>\n",
       "  </thead>\n",
       "  <tbody>\n",
       "    <tr>\n",
       "      <th>22902</th>\n",
       "      <td>-131.0</td>\n",
       "      <td>97.0</td>\n",
       "      <td>2.0</td>\n",
       "      <td>0.0</td>\n",
       "      <td>1996-97</td>\n",
       "      <td>36.0</td>\n",
       "      <td>0.0</td>\n",
       "      <td>Left Side Center(LC)</td>\n",
       "      <td>Mid Range</td>\n",
       "      <td>16-24 ft.</td>\n",
       "      <td>NaN</td>\n",
       "      <td>MANU @ NYK</td>\n",
       "      <td>22903.0</td>\n",
       "      <td>40.708999, -73.872430</td>\n",
       "      <td>shot - 9</td>\n",
       "      <td>29600031</td>\n",
       "      <td>10.133333</td>\n",
       "    </tr>\n",
       "  </tbody>\n",
       "</table>\n",
       "</div>"
      ],
      "text/plain": [
       "       location_x  location_y  power_of_shot  knockout_match game_season  \\\n",
       "22902      -131.0        97.0            2.0             0.0     1996-97   \n",
       "\n",
       "       distance_of_shot  is_goal          area_of_shot shot_basics  \\\n",
       "22902              36.0      0.0  Left Side Center(LC)   Mid Range   \n",
       "\n",
       "      range_of_shot date_of_game   home/away  shot_id_number  \\\n",
       "22902     16-24 ft.          NaN  MANU @ NYK         22903.0   \n",
       "\n",
       "                     lat/lng type_of_shot  match_id  remaining_time  \n",
       "22902  40.708999, -73.872430     shot - 9  29600031       10.133333  "
      ]
     },
     "execution_count": 27,
     "metadata": {},
     "output_type": "execute_result"
    }
   ],
   "source": [
    "dataset[dataset[\"match_id\"] == 29600031]"
   ]
  },
  {
   "cell_type": "code",
   "execution_count": 28,
   "metadata": {},
   "outputs": [],
   "source": [
    "dataset.drop(22902 , axis=0 , inplace =True)"
   ]
  },
  {
   "cell_type": "code",
   "execution_count": 29,
   "metadata": {},
   "outputs": [
    {
     "name": "stderr",
     "output_type": "stream",
     "text": [
      "100%|████████████████████████████████████| 30696/30696 [00:01<00:00, 19748.68it/s]\n",
      "100%|████████████████████████████████████| 30696/30696 [00:00<00:00, 53147.31it/s]\n"
     ]
    },
    {
     "data": {
      "text/plain": [
       "True"
      ]
     },
     "execution_count": 29,
     "metadata": {},
     "output_type": "execute_result"
    }
   ],
   "source": [
    "z = one_to_one(\"date_of_game\")\n",
    "z"
   ]
  },
  {
   "cell_type": "code",
   "execution_count": 30,
   "metadata": {},
   "outputs": [],
   "source": [
    "bool_series = dataset[\"is_goal\"].isna()\n",
    "testdata = dataset[bool_series]\n",
    "false_series = dataset[\"is_goal\"].notnull()\n",
    "training_data = dataset[false_series]"
   ]
  },
  {
   "cell_type": "code",
   "execution_count": 31,
   "metadata": {},
   "outputs": [
    {
     "data": {
      "text/plain": [
       "location_x            0\n",
       "location_y            0\n",
       "power_of_shot       288\n",
       "knockout_match        0\n",
       "game_season           0\n",
       "distance_of_shot      0\n",
       "is_goal               0\n",
       "area_of_shot          0\n",
       "shot_basics           0\n",
       "range_of_shot         0\n",
       "date_of_game          0\n",
       "home/away             0\n",
       "shot_id_number        0\n",
       "lat/lng               0\n",
       "type_of_shot          0\n",
       "match_id              0\n",
       "remaining_time      126\n",
       "dtype: int64"
      ]
     },
     "execution_count": 31,
     "metadata": {},
     "output_type": "execute_result"
    }
   ],
   "source": [
    "training_data.isna().sum()"
   ]
  },
  {
   "cell_type": "code",
   "execution_count": 32,
   "metadata": {},
   "outputs": [
    {
     "data": {
      "text/plain": [
       "location_x             0\n",
       "location_y             0\n",
       "power_of_shot         69\n",
       "knockout_match         0\n",
       "game_season            0\n",
       "distance_of_shot       0\n",
       "is_goal             6268\n",
       "area_of_shot           0\n",
       "shot_basics            0\n",
       "range_of_shot          0\n",
       "date_of_game           0\n",
       "home/away              0\n",
       "shot_id_number         0\n",
       "lat/lng                0\n",
       "type_of_shot           0\n",
       "match_id               0\n",
       "remaining_time        32\n",
       "dtype: int64"
      ]
     },
     "execution_count": 32,
     "metadata": {},
     "output_type": "execute_result"
    }
   ],
   "source": [
    "testdata.isna().sum()"
   ]
  },
  {
   "cell_type": "code",
   "execution_count": 33,
   "metadata": {},
   "outputs": [
    {
     "name": "stderr",
     "output_type": "stream",
     "text": [
      "c:\\users\\bharat\\appdata\\local\\programs\\python\\python36\\lib\\site-packages\\ipykernel_launcher.py:1: SettingWithCopyWarning: \n",
      "A value is trying to be set on a copy of a slice from a DataFrame\n",
      "\n",
      "See the caveats in the documentation: http://pandas.pydata.org/pandas-docs/stable/indexing.html#indexing-view-versus-copy\n",
      "  \"\"\"Entry point for launching an IPython kernel.\n"
     ]
    }
   ],
   "source": [
    "training_data.dropna(inplace=True)"
   ]
  },
  {
   "cell_type": "code",
   "execution_count": 34,
   "metadata": {},
   "outputs": [
    {
     "data": {
      "text/plain": [
       "location_x          0\n",
       "location_y          0\n",
       "power_of_shot       0\n",
       "knockout_match      0\n",
       "game_season         0\n",
       "distance_of_shot    0\n",
       "is_goal             0\n",
       "area_of_shot        0\n",
       "shot_basics         0\n",
       "range_of_shot       0\n",
       "date_of_game        0\n",
       "home/away           0\n",
       "shot_id_number      0\n",
       "lat/lng             0\n",
       "type_of_shot        0\n",
       "match_id            0\n",
       "remaining_time      0\n",
       "dtype: int64"
      ]
     },
     "execution_count": 34,
     "metadata": {},
     "output_type": "execute_result"
    }
   ],
   "source": [
    "training_data.isna().sum()"
   ]
  },
  {
   "cell_type": "code",
   "execution_count": 35,
   "metadata": {},
   "outputs": [],
   "source": [
    "med =testdata[\"power_of_shot\"].median()"
   ]
  },
  {
   "cell_type": "code",
   "execution_count": 36,
   "metadata": {},
   "outputs": [
    {
     "name": "stderr",
     "output_type": "stream",
     "text": [
      "c:\\users\\bharat\\appdata\\local\\programs\\python\\python36\\lib\\site-packages\\pandas\\core\\generic.py:6130: SettingWithCopyWarning: \n",
      "A value is trying to be set on a copy of a slice from a DataFrame\n",
      "\n",
      "See the caveats in the documentation: http://pandas.pydata.org/pandas-docs/stable/indexing.html#indexing-view-versus-copy\n",
      "  self._update_inplace(new_data)\n"
     ]
    }
   ],
   "source": [
    "testdata[\"power_of_shot\"].fillna(med , inplace=True)"
   ]
  },
  {
   "cell_type": "code",
   "execution_count": 37,
   "metadata": {},
   "outputs": [
    {
     "data": {
      "text/plain": [
       "5.183333333333334"
      ]
     },
     "execution_count": 37,
     "metadata": {},
     "output_type": "execute_result"
    }
   ],
   "source": [
    "med = testdata[\"remaining_time\"].median()\n",
    "med"
   ]
  },
  {
   "cell_type": "code",
   "execution_count": 38,
   "metadata": {},
   "outputs": [],
   "source": [
    "testdata[\"remaining_time\"].fillna(med ,inplace=True)"
   ]
  },
  {
   "cell_type": "code",
   "execution_count": 39,
   "metadata": {},
   "outputs": [
    {
     "data": {
      "text/plain": [
       "location_x             0\n",
       "location_y             0\n",
       "power_of_shot          0\n",
       "knockout_match         0\n",
       "game_season            0\n",
       "distance_of_shot       0\n",
       "is_goal             6268\n",
       "area_of_shot           0\n",
       "shot_basics            0\n",
       "range_of_shot          0\n",
       "date_of_game           0\n",
       "home/away              0\n",
       "shot_id_number         0\n",
       "lat/lng                0\n",
       "type_of_shot           0\n",
       "match_id               0\n",
       "remaining_time         0\n",
       "dtype: int64"
      ]
     },
     "execution_count": 39,
     "metadata": {},
     "output_type": "execute_result"
    }
   ],
   "source": [
    "testdata.isna().sum()"
   ]
  },
  {
   "cell_type": "code",
   "execution_count": 40,
   "metadata": {},
   "outputs": [
    {
     "data": {
      "text/plain": [
       "location_x          0\n",
       "location_y          0\n",
       "power_of_shot       0\n",
       "knockout_match      0\n",
       "game_season         0\n",
       "distance_of_shot    0\n",
       "is_goal             0\n",
       "area_of_shot        0\n",
       "shot_basics         0\n",
       "range_of_shot       0\n",
       "date_of_game        0\n",
       "home/away           0\n",
       "shot_id_number      0\n",
       "lat/lng             0\n",
       "type_of_shot        0\n",
       "match_id            0\n",
       "remaining_time      0\n",
       "dtype: int64"
      ]
     },
     "execution_count": 40,
     "metadata": {},
     "output_type": "execute_result"
    }
   ],
   "source": [
    "training_data.isna().sum()"
   ]
  },
  {
   "cell_type": "code",
   "execution_count": 41,
   "metadata": {},
   "outputs": [
    {
     "data": {
      "text/plain": [
       "24016"
      ]
     },
     "execution_count": 41,
     "metadata": {},
     "output_type": "execute_result"
    }
   ],
   "source": [
    "len(training_data)"
   ]
  },
  {
   "cell_type": "code",
   "execution_count": 42,
   "metadata": {},
   "outputs": [
    {
     "data": {
      "text/plain": [
       "6268"
      ]
     },
     "execution_count": 42,
     "metadata": {},
     "output_type": "execute_result"
    }
   ],
   "source": [
    "len(testdata)"
   ]
  },
  {
   "cell_type": "code",
   "execution_count": 43,
   "metadata": {},
   "outputs": [],
   "source": [
    "training_data.to_csv(\"cleaned_training_data2.csv\" , index=False)"
   ]
  },
  {
   "cell_type": "code",
   "execution_count": 44,
   "metadata": {},
   "outputs": [],
   "source": [
    "testdata.to_csv(\"cleaned_test_data2.csv\" , index=False)"
   ]
  },
  {
   "cell_type": "code",
   "execution_count": 45,
   "metadata": {},
   "outputs": [
    {
     "data": {
      "text/plain": [
       "Index(['location_x', 'location_y', 'power_of_shot', 'knockout_match',\n",
       "       'game_season', 'distance_of_shot', 'is_goal', 'area_of_shot',\n",
       "       'shot_basics', 'range_of_shot', 'date_of_game', 'home/away',\n",
       "       'shot_id_number', 'lat/lng', 'type_of_shot', 'match_id',\n",
       "       'remaining_time'],\n",
       "      dtype='object')"
      ]
     },
     "execution_count": 45,
     "metadata": {},
     "output_type": "execute_result"
    }
   ],
   "source": [
    "df_train = pd.read_csv(\"cleaned_training_data2.csv\")\n",
    "df_test = pd.read_csv(\"cleaned_test_data2.csv\")\n",
    "df_test.columns"
   ]
  },
  {
   "cell_type": "code",
   "execution_count": 46,
   "metadata": {},
   "outputs": [],
   "source": [
    "from sklearn.preprocessing import LabelEncoder\n",
    "le = LabelEncoder()\n",
    "df_train[\"game_season\"] = le.fit_transform(df_train.iloc[:,4].values)\n",
    "df_test[\"game_season\"] = le.transform(df_test.iloc[:,4].values)\n",
    "\n",
    "one_hot = pd.get_dummies(df_train[\"area_of_shot\"] , drop_first=True)\n",
    "df_train = df_train.join(one_hot)\n",
    "df_train.drop(\"area_of_shot\" , axis=1, inplace=True)\n",
    "\n",
    "one_hot = pd.get_dummies(df_train[\"range_of_shot\"] , drop_first=True)\n",
    "df_train = df_train.join(one_hot)\n",
    "df_train.drop(\"range_of_shot\" , axis=1, inplace=True)\n",
    "\n",
    "one_hot = pd.get_dummies(df_train[\"shot_basics\"] , drop_first=True)\n",
    "df_train = df_train.join(one_hot)\n",
    "df_train.drop(\"shot_basics\" , axis=1 , inplace=True)\n",
    "\n",
    "one_hot = pd.get_dummies(df_train[\"home/away\"] , drop_first=True)\n",
    "df_train = df_train.join(one_hot)\n",
    "df_train.drop(\"home/away\" , axis=1 , inplace=True)\n",
    "\n",
    "one_hot = pd.get_dummies(df_train[\"type_of_shot\"] , drop_first=True)\n",
    "df_train = df_train.join(one_hot)\n",
    "df_train.drop(\"type_of_shot\" , axis=1, inplace=True)\n",
    "\n",
    "one_hot = pd.get_dummies(df_train[\"lat/lng\"] , drop_first=True)\n",
    "df_train = df_train.join(one_hot)\n",
    "df_train.drop(\"lat/lng\" , axis=1,inplace=True)\n",
    "df_train.drop(\"date_of_game\" , axis=1 , inplace=True)\n",
    "df_train.drop(\"shot_id_number\" ,axis=1 ,inplace=True)\n",
    "#df_train.drop(\"match_id\" , axis=1 ,inplace=True)"
   ]
  },
  {
   "cell_type": "code",
   "execution_count": 47,
   "metadata": {},
   "outputs": [],
   "source": [
    "one_hot = pd.get_dummies(df_test[\"area_of_shot\"] , drop_first=True)\n",
    "df_test = df_test.join(one_hot)\n",
    "df_test.drop(\"area_of_shot\" , axis=1, inplace=True)\n",
    "\n",
    "one_hot = pd.get_dummies(df_test[\"range_of_shot\"] , drop_first=True)\n",
    "df_test = df_test.join(one_hot)\n",
    "df_test.drop(\"range_of_shot\" , axis=1, inplace=True)\n",
    "\n",
    "one_hot = pd.get_dummies(df_test[\"shot_basics\"] , drop_first=True)\n",
    "df_test = df_test.join(one_hot)\n",
    "df_test.drop(\"shot_basics\" , axis=1 , inplace=True)\n",
    "\n",
    "one_hot = pd.get_dummies(df_test[\"home/away\"] , drop_first=True)\n",
    "df_test = df_test.join(one_hot , lsuffix=\"left\" , rsuffix=\"right\")\n",
    "df_test.drop(\"home/away\" , axis=1 , inplace=True)\n",
    "\n",
    "one_hot = pd.get_dummies(df_test[\"type_of_shot\"] , drop_first=True)\n",
    "df_test = df_test.join(one_hot)\n",
    "df_test.drop(\"type_of_shot\" , axis=1, inplace=True)\n",
    "\n",
    "one_hot = pd.get_dummies(df_test[\"lat/lng\"] , drop_first=True)\n",
    "df_test = df_test.join(one_hot)\n",
    "df_test.drop(\"lat/lng\" , axis=1,inplace=True)\n",
    "df_test.drop(\"date_of_game\" , axis=1 , inplace=True)\n",
    "df_test.drop(\"shot_id_number\" ,axis=1 ,inplace=True)\n",
    "#df_test.drop(\"match_id\" , axis=1 ,inplace=True)"
   ]
  },
  {
   "cell_type": "code",
   "execution_count": 48,
   "metadata": {},
   "outputs": [],
   "source": [
    "x = df_train.iloc[: , df_train.columns != \"is_goal\"].values\n",
    "y = df_train.iloc[: , df_train.columns == \"is_goal\"].values"
   ]
  },
  {
   "cell_type": "code",
   "execution_count": 49,
   "metadata": {},
   "outputs": [],
   "source": [
    "X = df_test.iloc[: , df_train.columns != \"is_goal\"].values\n",
    "Y = df_test.iloc[: , df_train.columns == \"is_goal\"].values\n",
    "\n",
    "# split data into train and test sets\n",
    "seed = 7\n",
    "test_size = 0.33\n",
    "X_train, X_test, y_train, y_test = train_test_split(x, y, test_size=test_size, random_state=seed)\n",
    "\n",
    "from sklearn.preprocessing import StandardScaler\n",
    "sc = StandardScaler()\n",
    "X_train = sc.fit_transform(X_train)\n",
    "X_test = sc.transform(X_test)"
   ]
  },
  {
   "cell_type": "code",
   "execution_count": 50,
   "metadata": {},
   "outputs": [
    {
     "name": "stderr",
     "output_type": "stream",
     "text": [
      "c:\\users\\bharat\\appdata\\local\\programs\\python\\python36\\lib\\site-packages\\sklearn\\preprocessing\\label.py:219: DataConversionWarning: A column-vector y was passed when a 1d array was expected. Please change the shape of y to (n_samples, ), for example using ravel().\n",
      "  y = column_or_1d(y, warn=True)\n",
      "c:\\users\\bharat\\appdata\\local\\programs\\python\\python36\\lib\\site-packages\\sklearn\\preprocessing\\label.py:252: DataConversionWarning: A column-vector y was passed when a 1d array was expected. Please change the shape of y to (n_samples, ), for example using ravel().\n",
      "  y = column_or_1d(y, warn=True)\n"
     ]
    },
    {
     "name": "stdout",
     "output_type": "stream",
     "text": [
      "Accuracy: 62.45%\n"
     ]
    }
   ],
   "source": [
    "from xgboost import XGBClassifier\n",
    "model = XGBClassifier(max_depth=2 ,learning_rate=0.05)\n",
    "model.fit(X_train , y_train)\n",
    "\n",
    "y_pred = model.predict(X_test)\n",
    "\n",
    "accuracy = accuracy_score(y_test , y_pred)\n",
    "print(\"Accuracy: %.2f%%\" % (accuracy * 100.0))"
   ]
  },
  {
   "cell_type": "code",
   "execution_count": 51,
   "metadata": {},
   "outputs": [
    {
     "data": {
      "text/html": [
       "<div>\n",
       "<style scoped>\n",
       "    .dataframe tbody tr th:only-of-type {\n",
       "        vertical-align: middle;\n",
       "    }\n",
       "\n",
       "    .dataframe tbody tr th {\n",
       "        vertical-align: top;\n",
       "    }\n",
       "\n",
       "    .dataframe thead th {\n",
       "        text-align: right;\n",
       "    }\n",
       "</style>\n",
       "<table border=\"1\" class=\"dataframe\">\n",
       "  <thead>\n",
       "    <tr style=\"text-align: right;\">\n",
       "      <th></th>\n",
       "      <th>shot_id_number</th>\n",
       "      <th>is_goal</th>\n",
       "    </tr>\n",
       "  </thead>\n",
       "  <tbody>\n",
       "    <tr>\n",
       "      <th>0</th>\n",
       "      <td>1</td>\n",
       "      <td>0.405227</td>\n",
       "    </tr>\n",
       "    <tr>\n",
       "      <th>1</th>\n",
       "      <td>8</td>\n",
       "      <td>0.531364</td>\n",
       "    </tr>\n",
       "    <tr>\n",
       "      <th>2</th>\n",
       "      <td>17</td>\n",
       "      <td>0.592319</td>\n",
       "    </tr>\n",
       "    <tr>\n",
       "      <th>3</th>\n",
       "      <td>20</td>\n",
       "      <td>0.629232</td>\n",
       "    </tr>\n",
       "    <tr>\n",
       "      <th>4</th>\n",
       "      <td>22</td>\n",
       "      <td>0.405227</td>\n",
       "    </tr>\n",
       "    <tr>\n",
       "      <th>5</th>\n",
       "      <td>33</td>\n",
       "      <td>0.405227</td>\n",
       "    </tr>\n",
       "    <tr>\n",
       "      <th>6</th>\n",
       "      <td>34</td>\n",
       "      <td>0.405227</td>\n",
       "    </tr>\n",
       "    <tr>\n",
       "      <th>7</th>\n",
       "      <td>35</td>\n",
       "      <td>0.433214</td>\n",
       "    </tr>\n",
       "    <tr>\n",
       "      <th>8</th>\n",
       "      <td>36</td>\n",
       "      <td>0.433214</td>\n",
       "    </tr>\n",
       "    <tr>\n",
       "      <th>9</th>\n",
       "      <td>37</td>\n",
       "      <td>0.627864</td>\n",
       "    </tr>\n",
       "    <tr>\n",
       "      <th>10</th>\n",
       "      <td>38</td>\n",
       "      <td>0.450951</td>\n",
       "    </tr>\n",
       "    <tr>\n",
       "      <th>11</th>\n",
       "      <td>45</td>\n",
       "      <td>0.449838</td>\n",
       "    </tr>\n",
       "    <tr>\n",
       "      <th>12</th>\n",
       "      <td>50</td>\n",
       "      <td>0.387860</td>\n",
       "    </tr>\n",
       "    <tr>\n",
       "      <th>13</th>\n",
       "      <td>55</td>\n",
       "      <td>0.259819</td>\n",
       "    </tr>\n",
       "    <tr>\n",
       "      <th>14</th>\n",
       "      <td>60</td>\n",
       "      <td>0.273563</td>\n",
       "    </tr>\n",
       "    <tr>\n",
       "      <th>15</th>\n",
       "      <td>62</td>\n",
       "      <td>0.395586</td>\n",
       "    </tr>\n",
       "    <tr>\n",
       "      <th>16</th>\n",
       "      <td>66</td>\n",
       "      <td>0.411428</td>\n",
       "    </tr>\n",
       "    <tr>\n",
       "      <th>17</th>\n",
       "      <td>67</td>\n",
       "      <td>0.401701</td>\n",
       "    </tr>\n",
       "    <tr>\n",
       "      <th>18</th>\n",
       "      <td>71</td>\n",
       "      <td>0.405227</td>\n",
       "    </tr>\n",
       "    <tr>\n",
       "      <th>19</th>\n",
       "      <td>72</td>\n",
       "      <td>0.372277</td>\n",
       "    </tr>\n",
       "    <tr>\n",
       "      <th>20</th>\n",
       "      <td>76</td>\n",
       "      <td>0.366734</td>\n",
       "    </tr>\n",
       "    <tr>\n",
       "      <th>21</th>\n",
       "      <td>80</td>\n",
       "      <td>0.415670</td>\n",
       "    </tr>\n",
       "    <tr>\n",
       "      <th>22</th>\n",
       "      <td>85</td>\n",
       "      <td>0.418880</td>\n",
       "    </tr>\n",
       "    <tr>\n",
       "      <th>23</th>\n",
       "      <td>86</td>\n",
       "      <td>0.401701</td>\n",
       "    </tr>\n",
       "    <tr>\n",
       "      <th>24</th>\n",
       "      <td>87</td>\n",
       "      <td>0.405227</td>\n",
       "    </tr>\n",
       "    <tr>\n",
       "      <th>25</th>\n",
       "      <td>92</td>\n",
       "      <td>0.392868</td>\n",
       "    </tr>\n",
       "    <tr>\n",
       "      <th>26</th>\n",
       "      <td>95</td>\n",
       "      <td>0.413206</td>\n",
       "    </tr>\n",
       "    <tr>\n",
       "      <th>27</th>\n",
       "      <td>97</td>\n",
       "      <td>0.385654</td>\n",
       "    </tr>\n",
       "    <tr>\n",
       "      <th>28</th>\n",
       "      <td>104</td>\n",
       "      <td>0.443962</td>\n",
       "    </tr>\n",
       "    <tr>\n",
       "      <th>29</th>\n",
       "      <td>113</td>\n",
       "      <td>0.396848</td>\n",
       "    </tr>\n",
       "    <tr>\n",
       "      <th>...</th>\n",
       "      <td>...</td>\n",
       "      <td>...</td>\n",
       "    </tr>\n",
       "    <tr>\n",
       "      <th>6238</th>\n",
       "      <td>30568</td>\n",
       "      <td>0.407118</td>\n",
       "    </tr>\n",
       "    <tr>\n",
       "      <th>6239</th>\n",
       "      <td>30570</td>\n",
       "      <td>0.696513</td>\n",
       "    </tr>\n",
       "    <tr>\n",
       "      <th>6240</th>\n",
       "      <td>30581</td>\n",
       "      <td>0.402050</td>\n",
       "    </tr>\n",
       "    <tr>\n",
       "      <th>6241</th>\n",
       "      <td>30584</td>\n",
       "      <td>0.362781</td>\n",
       "    </tr>\n",
       "    <tr>\n",
       "      <th>6242</th>\n",
       "      <td>30591</td>\n",
       "      <td>0.414629</td>\n",
       "    </tr>\n",
       "    <tr>\n",
       "      <th>6243</th>\n",
       "      <td>30594</td>\n",
       "      <td>0.629232</td>\n",
       "    </tr>\n",
       "    <tr>\n",
       "      <th>6244</th>\n",
       "      <td>30614</td>\n",
       "      <td>0.405227</td>\n",
       "    </tr>\n",
       "    <tr>\n",
       "      <th>6245</th>\n",
       "      <td>30617</td>\n",
       "      <td>0.390999</td>\n",
       "    </tr>\n",
       "    <tr>\n",
       "      <th>6246</th>\n",
       "      <td>30618</td>\n",
       "      <td>0.624829</td>\n",
       "    </tr>\n",
       "    <tr>\n",
       "      <th>6247</th>\n",
       "      <td>30626</td>\n",
       "      <td>0.379250</td>\n",
       "    </tr>\n",
       "    <tr>\n",
       "      <th>6248</th>\n",
       "      <td>30630</td>\n",
       "      <td>0.403815</td>\n",
       "    </tr>\n",
       "    <tr>\n",
       "      <th>6249</th>\n",
       "      <td>30631</td>\n",
       "      <td>0.392396</td>\n",
       "    </tr>\n",
       "    <tr>\n",
       "      <th>6250</th>\n",
       "      <td>30632</td>\n",
       "      <td>0.414629</td>\n",
       "    </tr>\n",
       "    <tr>\n",
       "      <th>6251</th>\n",
       "      <td>30634</td>\n",
       "      <td>0.422178</td>\n",
       "    </tr>\n",
       "    <tr>\n",
       "      <th>6252</th>\n",
       "      <td>30636</td>\n",
       "      <td>0.435371</td>\n",
       "    </tr>\n",
       "    <tr>\n",
       "      <th>6253</th>\n",
       "      <td>30637</td>\n",
       "      <td>0.433930</td>\n",
       "    </tr>\n",
       "    <tr>\n",
       "      <th>6254</th>\n",
       "      <td>30639</td>\n",
       "      <td>0.403815</td>\n",
       "    </tr>\n",
       "    <tr>\n",
       "      <th>6255</th>\n",
       "      <td>30647</td>\n",
       "      <td>0.400641</td>\n",
       "    </tr>\n",
       "    <tr>\n",
       "      <th>6256</th>\n",
       "      <td>30649</td>\n",
       "      <td>0.430691</td>\n",
       "    </tr>\n",
       "    <tr>\n",
       "      <th>6257</th>\n",
       "      <td>30656</td>\n",
       "      <td>0.407118</td>\n",
       "    </tr>\n",
       "    <tr>\n",
       "      <th>6258</th>\n",
       "      <td>30660</td>\n",
       "      <td>0.392396</td>\n",
       "    </tr>\n",
       "    <tr>\n",
       "      <th>6259</th>\n",
       "      <td>30665</td>\n",
       "      <td>0.418880</td>\n",
       "    </tr>\n",
       "    <tr>\n",
       "      <th>6260</th>\n",
       "      <td>30669</td>\n",
       "      <td>0.402050</td>\n",
       "    </tr>\n",
       "    <tr>\n",
       "      <th>6261</th>\n",
       "      <td>30680</td>\n",
       "      <td>0.431775</td>\n",
       "    </tr>\n",
       "    <tr>\n",
       "      <th>6262</th>\n",
       "      <td>30681</td>\n",
       "      <td>0.595511</td>\n",
       "    </tr>\n",
       "    <tr>\n",
       "      <th>6263</th>\n",
       "      <td>30682</td>\n",
       "      <td>0.256948</td>\n",
       "    </tr>\n",
       "    <tr>\n",
       "      <th>6264</th>\n",
       "      <td>30683</td>\n",
       "      <td>0.618912</td>\n",
       "    </tr>\n",
       "    <tr>\n",
       "      <th>6265</th>\n",
       "      <td>30687</td>\n",
       "      <td>0.618912</td>\n",
       "    </tr>\n",
       "    <tr>\n",
       "      <th>6266</th>\n",
       "      <td>30688</td>\n",
       "      <td>0.413206</td>\n",
       "    </tr>\n",
       "    <tr>\n",
       "      <th>6267</th>\n",
       "      <td>30694</td>\n",
       "      <td>0.593742</td>\n",
       "    </tr>\n",
       "  </tbody>\n",
       "</table>\n",
       "<p>6268 rows × 2 columns</p>\n",
       "</div>"
      ],
      "text/plain": [
       "      shot_id_number   is_goal\n",
       "0                  1  0.405227\n",
       "1                  8  0.531364\n",
       "2                 17  0.592319\n",
       "3                 20  0.629232\n",
       "4                 22  0.405227\n",
       "5                 33  0.405227\n",
       "6                 34  0.405227\n",
       "7                 35  0.433214\n",
       "8                 36  0.433214\n",
       "9                 37  0.627864\n",
       "10                38  0.450951\n",
       "11                45  0.449838\n",
       "12                50  0.387860\n",
       "13                55  0.259819\n",
       "14                60  0.273563\n",
       "15                62  0.395586\n",
       "16                66  0.411428\n",
       "17                67  0.401701\n",
       "18                71  0.405227\n",
       "19                72  0.372277\n",
       "20                76  0.366734\n",
       "21                80  0.415670\n",
       "22                85  0.418880\n",
       "23                86  0.401701\n",
       "24                87  0.405227\n",
       "25                92  0.392868\n",
       "26                95  0.413206\n",
       "27                97  0.385654\n",
       "28               104  0.443962\n",
       "29               113  0.396848\n",
       "...              ...       ...\n",
       "6238           30568  0.407118\n",
       "6239           30570  0.696513\n",
       "6240           30581  0.402050\n",
       "6241           30584  0.362781\n",
       "6242           30591  0.414629\n",
       "6243           30594  0.629232\n",
       "6244           30614  0.405227\n",
       "6245           30617  0.390999\n",
       "6246           30618  0.624829\n",
       "6247           30626  0.379250\n",
       "6248           30630  0.403815\n",
       "6249           30631  0.392396\n",
       "6250           30632  0.414629\n",
       "6251           30634  0.422178\n",
       "6252           30636  0.435371\n",
       "6253           30637  0.433930\n",
       "6254           30639  0.403815\n",
       "6255           30647  0.400641\n",
       "6256           30649  0.430691\n",
       "6257           30656  0.407118\n",
       "6258           30660  0.392396\n",
       "6259           30665  0.418880\n",
       "6260           30669  0.402050\n",
       "6261           30680  0.431775\n",
       "6262           30681  0.595511\n",
       "6263           30682  0.256948\n",
       "6264           30683  0.618912\n",
       "6265           30687  0.618912\n",
       "6266           30688  0.413206\n",
       "6267           30694  0.593742\n",
       "\n",
       "[6268 rows x 2 columns]"
      ]
     },
     "execution_count": 51,
     "metadata": {},
     "output_type": "execute_result"
    }
   ],
   "source": [
    "X = sc.transform(X)\n",
    "y_pred = model.predict_proba(X)\n",
    "temp = pd.read_csv(\"cleaned_test_data2.csv\")\n",
    "temp[\"shot_id_number\"] = temp[\"shot_id_number\"].astype('int64')\n",
    "result = pd.DataFrame(data={\"shot_id_number\" : temp[\"shot_id_number\"], \"is_goal\" : y_pred[:, 1]})\n",
    "result"
   ]
  },
  {
   "cell_type": "code",
   "execution_count": 52,
   "metadata": {},
   "outputs": [],
   "source": [
    "result.to_csv(\"deepak_hirawat_220199_6.csv\", index=False)"
   ]
  },
  {
   "cell_type": "code",
   "execution_count": 53,
   "metadata": {},
   "outputs": [
    {
     "data": {
      "text/html": [
       "<div>\n",
       "<style scoped>\n",
       "    .dataframe tbody tr th:only-of-type {\n",
       "        vertical-align: middle;\n",
       "    }\n",
       "\n",
       "    .dataframe tbody tr th {\n",
       "        vertical-align: top;\n",
       "    }\n",
       "\n",
       "    .dataframe thead th {\n",
       "        text-align: right;\n",
       "    }\n",
       "</style>\n",
       "<table border=\"1\" class=\"dataframe\">\n",
       "  <thead>\n",
       "    <tr style=\"text-align: right;\">\n",
       "      <th></th>\n",
       "      <th>columns</th>\n",
       "      <th>importances</th>\n",
       "    </tr>\n",
       "  </thead>\n",
       "  <tbody>\n",
       "    <tr>\n",
       "      <th>5</th>\n",
       "      <td>distance_of_shot</td>\n",
       "      <td>0.153326</td>\n",
       "    </tr>\n",
       "    <tr>\n",
       "      <th>128</th>\n",
       "      <td>shot - 39</td>\n",
       "      <td>0.147588</td>\n",
       "    </tr>\n",
       "    <tr>\n",
       "      <th>96</th>\n",
       "      <td>shot - 1</td>\n",
       "      <td>0.099508</td>\n",
       "    </tr>\n",
       "    <tr>\n",
       "      <th>13</th>\n",
       "      <td>24+ ft.</td>\n",
       "      <td>0.075694</td>\n",
       "    </tr>\n",
       "    <tr>\n",
       "      <th>134</th>\n",
       "      <td>shot - 44</td>\n",
       "      <td>0.073657</td>\n",
       "    </tr>\n",
       "    <tr>\n",
       "      <th>7</th>\n",
       "      <td>remaining_time</td>\n",
       "      <td>0.049792</td>\n",
       "    </tr>\n",
       "    <tr>\n",
       "      <th>99</th>\n",
       "      <td>shot - 12</td>\n",
       "      <td>0.048874</td>\n",
       "    </tr>\n",
       "    <tr>\n",
       "      <th>16</th>\n",
       "      <td>Less Than 8 ft.</td>\n",
       "      <td>0.046914</td>\n",
       "    </tr>\n",
       "    <tr>\n",
       "      <th>104</th>\n",
       "      <td>shot - 17</td>\n",
       "      <td>0.041420</td>\n",
       "    </tr>\n",
       "    <tr>\n",
       "      <th>125</th>\n",
       "      <td>shot - 36</td>\n",
       "      <td>0.033623</td>\n",
       "    </tr>\n",
       "    <tr>\n",
       "      <th>121</th>\n",
       "      <td>shot - 32</td>\n",
       "      <td>0.032792</td>\n",
       "    </tr>\n",
       "    <tr>\n",
       "      <th>102</th>\n",
       "      <td>shot - 15</td>\n",
       "      <td>0.032494</td>\n",
       "    </tr>\n",
       "    <tr>\n",
       "      <th>143</th>\n",
       "      <td>shot - 52</td>\n",
       "      <td>0.029260</td>\n",
       "    </tr>\n",
       "    <tr>\n",
       "      <th>0</th>\n",
       "      <td>location_x</td>\n",
       "      <td>0.026432</td>\n",
       "    </tr>\n",
       "    <tr>\n",
       "      <th>139</th>\n",
       "      <td>shot - 49</td>\n",
       "      <td>0.026138</td>\n",
       "    </tr>\n",
       "    <tr>\n",
       "      <th>4</th>\n",
       "      <td>game_season</td>\n",
       "      <td>0.021964</td>\n",
       "    </tr>\n",
       "    <tr>\n",
       "      <th>1</th>\n",
       "      <td>location_y</td>\n",
       "      <td>0.020451</td>\n",
       "    </tr>\n",
       "    <tr>\n",
       "      <th>2</th>\n",
       "      <td>power_of_shot</td>\n",
       "      <td>0.019670</td>\n",
       "    </tr>\n",
       "    <tr>\n",
       "      <th>65</th>\n",
       "      <td>MANU vs. CLE</td>\n",
       "      <td>0.016367</td>\n",
       "    </tr>\n",
       "    <tr>\n",
       "      <th>6</th>\n",
       "      <td>match_id</td>\n",
       "      <td>0.004036</td>\n",
       "    </tr>\n",
       "    <tr>\n",
       "      <th>136</th>\n",
       "      <td>shot - 46</td>\n",
       "      <td>0.000000</td>\n",
       "    </tr>\n",
       "    <tr>\n",
       "      <th>122</th>\n",
       "      <td>shot - 33</td>\n",
       "      <td>0.000000</td>\n",
       "    </tr>\n",
       "    <tr>\n",
       "      <th>123</th>\n",
       "      <td>shot - 34</td>\n",
       "      <td>0.000000</td>\n",
       "    </tr>\n",
       "    <tr>\n",
       "      <th>124</th>\n",
       "      <td>shot - 35</td>\n",
       "      <td>0.000000</td>\n",
       "    </tr>\n",
       "    <tr>\n",
       "      <th>186</th>\n",
       "      <td>46.667324, -94.419250</td>\n",
       "      <td>0.000000</td>\n",
       "    </tr>\n",
       "    <tr>\n",
       "      <th>126</th>\n",
       "      <td>shot - 37</td>\n",
       "      <td>0.000000</td>\n",
       "    </tr>\n",
       "    <tr>\n",
       "      <th>127</th>\n",
       "      <td>shot - 38</td>\n",
       "      <td>0.000000</td>\n",
       "    </tr>\n",
       "    <tr>\n",
       "      <th>185</th>\n",
       "      <td>45.539131, -122.651648</td>\n",
       "      <td>0.000000</td>\n",
       "    </tr>\n",
       "    <tr>\n",
       "      <th>135</th>\n",
       "      <td>shot - 45</td>\n",
       "      <td>0.000000</td>\n",
       "    </tr>\n",
       "    <tr>\n",
       "      <th>130</th>\n",
       "      <td>shot - 40</td>\n",
       "      <td>0.000000</td>\n",
       "    </tr>\n",
       "    <tr>\n",
       "      <th>...</th>\n",
       "      <td>...</td>\n",
       "      <td>...</td>\n",
       "    </tr>\n",
       "    <tr>\n",
       "      <th>88</th>\n",
       "      <td>MANU vs. SAC</td>\n",
       "      <td>0.000000</td>\n",
       "    </tr>\n",
       "    <tr>\n",
       "      <th>89</th>\n",
       "      <td>MANU vs. SAN</td>\n",
       "      <td>0.000000</td>\n",
       "    </tr>\n",
       "    <tr>\n",
       "      <th>90</th>\n",
       "      <td>MANU vs. SAS</td>\n",
       "      <td>0.000000</td>\n",
       "    </tr>\n",
       "    <tr>\n",
       "      <th>91</th>\n",
       "      <td>MANU vs. SEA</td>\n",
       "      <td>0.000000</td>\n",
       "    </tr>\n",
       "    <tr>\n",
       "      <th>92</th>\n",
       "      <td>MANU vs. TOR</td>\n",
       "      <td>0.000000</td>\n",
       "    </tr>\n",
       "    <tr>\n",
       "      <th>93</th>\n",
       "      <td>MANU vs. UTA</td>\n",
       "      <td>0.000000</td>\n",
       "    </tr>\n",
       "    <tr>\n",
       "      <th>95</th>\n",
       "      <td>MANU vs. WAS</td>\n",
       "      <td>0.000000</td>\n",
       "    </tr>\n",
       "    <tr>\n",
       "      <th>76</th>\n",
       "      <td>MANU vs. MIN</td>\n",
       "      <td>0.000000</td>\n",
       "    </tr>\n",
       "    <tr>\n",
       "      <th>74</th>\n",
       "      <td>MANU vs. MIA</td>\n",
       "      <td>0.000000</td>\n",
       "    </tr>\n",
       "    <tr>\n",
       "      <th>53</th>\n",
       "      <td>MANU @ SEA</td>\n",
       "      <td>0.000000</td>\n",
       "    </tr>\n",
       "    <tr>\n",
       "      <th>62</th>\n",
       "      <td>MANU vs. CHA</td>\n",
       "      <td>0.000000</td>\n",
       "    </tr>\n",
       "    <tr>\n",
       "      <th>54</th>\n",
       "      <td>MANU @ TOR</td>\n",
       "      <td>0.000000</td>\n",
       "    </tr>\n",
       "    <tr>\n",
       "      <th>55</th>\n",
       "      <td>MANU @ UTA</td>\n",
       "      <td>0.000000</td>\n",
       "    </tr>\n",
       "    <tr>\n",
       "      <th>56</th>\n",
       "      <td>MANU @ UTH</td>\n",
       "      <td>0.000000</td>\n",
       "    </tr>\n",
       "    <tr>\n",
       "      <th>57</th>\n",
       "      <td>MANU @ VAN</td>\n",
       "      <td>0.000000</td>\n",
       "    </tr>\n",
       "    <tr>\n",
       "      <th>58</th>\n",
       "      <td>MANU @ WAS</td>\n",
       "      <td>0.000000</td>\n",
       "    </tr>\n",
       "    <tr>\n",
       "      <th>59</th>\n",
       "      <td>MANU vs. ATL</td>\n",
       "      <td>0.000000</td>\n",
       "    </tr>\n",
       "    <tr>\n",
       "      <th>60</th>\n",
       "      <td>MANU vs. BKN</td>\n",
       "      <td>0.000000</td>\n",
       "    </tr>\n",
       "    <tr>\n",
       "      <th>61</th>\n",
       "      <td>MANU vs. BOS</td>\n",
       "      <td>0.000000</td>\n",
       "    </tr>\n",
       "    <tr>\n",
       "      <th>63</th>\n",
       "      <td>MANU vs. CHH</td>\n",
       "      <td>0.000000</td>\n",
       "    </tr>\n",
       "    <tr>\n",
       "      <th>73</th>\n",
       "      <td>MANU vs. MEM</td>\n",
       "      <td>0.000000</td>\n",
       "    </tr>\n",
       "    <tr>\n",
       "      <th>64</th>\n",
       "      <td>MANU vs. CHI</td>\n",
       "      <td>0.000000</td>\n",
       "    </tr>\n",
       "    <tr>\n",
       "      <th>66</th>\n",
       "      <td>MANU vs. DAL</td>\n",
       "      <td>0.000000</td>\n",
       "    </tr>\n",
       "    <tr>\n",
       "      <th>67</th>\n",
       "      <td>MANU vs. DEN</td>\n",
       "      <td>0.000000</td>\n",
       "    </tr>\n",
       "    <tr>\n",
       "      <th>68</th>\n",
       "      <td>MANU vs. DET</td>\n",
       "      <td>0.000000</td>\n",
       "    </tr>\n",
       "    <tr>\n",
       "      <th>69</th>\n",
       "      <td>MANU vs. GSW</td>\n",
       "      <td>0.000000</td>\n",
       "    </tr>\n",
       "    <tr>\n",
       "      <th>70</th>\n",
       "      <td>MANU vs. HOU</td>\n",
       "      <td>0.000000</td>\n",
       "    </tr>\n",
       "    <tr>\n",
       "      <th>71</th>\n",
       "      <td>MANU vs. IND</td>\n",
       "      <td>0.000000</td>\n",
       "    </tr>\n",
       "    <tr>\n",
       "      <th>72</th>\n",
       "      <td>MANU vs. LAC</td>\n",
       "      <td>0.000000</td>\n",
       "    </tr>\n",
       "    <tr>\n",
       "      <th>188</th>\n",
       "      <td>49.250068, -123.114646</td>\n",
       "      <td>0.000000</td>\n",
       "    </tr>\n",
       "  </tbody>\n",
       "</table>\n",
       "<p>189 rows × 2 columns</p>\n",
       "</div>"
      ],
      "text/plain": [
       "                    columns  importances\n",
       "5          distance_of_shot     0.153326\n",
       "128               shot - 39     0.147588\n",
       "96                 shot - 1     0.099508\n",
       "13                  24+ ft.     0.075694\n",
       "134               shot - 44     0.073657\n",
       "7            remaining_time     0.049792\n",
       "99                shot - 12     0.048874\n",
       "16          Less Than 8 ft.     0.046914\n",
       "104               shot - 17     0.041420\n",
       "125               shot - 36     0.033623\n",
       "121               shot - 32     0.032792\n",
       "102               shot - 15     0.032494\n",
       "143               shot - 52     0.029260\n",
       "0                location_x     0.026432\n",
       "139               shot - 49     0.026138\n",
       "4               game_season     0.021964\n",
       "1                location_y     0.020451\n",
       "2             power_of_shot     0.019670\n",
       "65             MANU vs. CLE     0.016367\n",
       "6                  match_id     0.004036\n",
       "136               shot - 46     0.000000\n",
       "122               shot - 33     0.000000\n",
       "123               shot - 34     0.000000\n",
       "124               shot - 35     0.000000\n",
       "186   46.667324, -94.419250     0.000000\n",
       "126               shot - 37     0.000000\n",
       "127               shot - 38     0.000000\n",
       "185  45.539131, -122.651648     0.000000\n",
       "135               shot - 45     0.000000\n",
       "130               shot - 40     0.000000\n",
       "..                      ...          ...\n",
       "88             MANU vs. SAC     0.000000\n",
       "89             MANU vs. SAN     0.000000\n",
       "90             MANU vs. SAS     0.000000\n",
       "91             MANU vs. SEA     0.000000\n",
       "92             MANU vs. TOR     0.000000\n",
       "93             MANU vs. UTA     0.000000\n",
       "95             MANU vs. WAS     0.000000\n",
       "76             MANU vs. MIN     0.000000\n",
       "74             MANU vs. MIA     0.000000\n",
       "53               MANU @ SEA     0.000000\n",
       "62             MANU vs. CHA     0.000000\n",
       "54               MANU @ TOR     0.000000\n",
       "55               MANU @ UTA     0.000000\n",
       "56               MANU @ UTH     0.000000\n",
       "57               MANU @ VAN     0.000000\n",
       "58               MANU @ WAS     0.000000\n",
       "59             MANU vs. ATL     0.000000\n",
       "60             MANU vs. BKN     0.000000\n",
       "61             MANU vs. BOS     0.000000\n",
       "63             MANU vs. CHH     0.000000\n",
       "73             MANU vs. MEM     0.000000\n",
       "64             MANU vs. CHI     0.000000\n",
       "66             MANU vs. DAL     0.000000\n",
       "67             MANU vs. DEN     0.000000\n",
       "68             MANU vs. DET     0.000000\n",
       "69             MANU vs. GSW     0.000000\n",
       "70             MANU vs. HOU     0.000000\n",
       "71             MANU vs. IND     0.000000\n",
       "72             MANU vs. LAC     0.000000\n",
       "188  49.250068, -123.114646     0.000000\n",
       "\n",
       "[189 rows x 2 columns]"
      ]
     },
     "execution_count": 53,
     "metadata": {},
     "output_type": "execute_result"
    }
   ],
   "source": [
    "df_test = df_test.iloc[: , df_test.columns != \"is_goal\"]\n",
    "importances = pd.DataFrame({\"columns\":df_test.columns , \"importances\":model.feature_importances_})\n",
    "importances.sort_values(\"importances\" ,ascending=False)"
   ]
  },
  {
   "cell_type": "code",
   "execution_count": null,
   "metadata": {},
   "outputs": [],
   "source": []
  }
 ],
 "metadata": {
  "kernelspec": {
   "display_name": "Python 3",
   "language": "python",
   "name": "python3"
  },
  "language_info": {
   "codemirror_mode": {
    "name": "ipython",
    "version": 3
   },
   "file_extension": ".py",
   "mimetype": "text/x-python",
   "name": "python",
   "nbconvert_exporter": "python",
   "pygments_lexer": "ipython3",
   "version": "3.6.6"
  }
 },
 "nbformat": 4,
 "nbformat_minor": 2
}
